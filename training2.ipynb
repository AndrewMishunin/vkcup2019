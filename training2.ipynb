{
 "cells": [
  {
   "cell_type": "code",
   "execution_count": 1,
   "metadata": {},
   "outputs": [],
   "source": [
    "import pandas as pd\n",
    "from glob import glob\n",
    "from sklearn.metrics import roc_auc_score\n",
    "from analysis.main_analyzer import MainAnalyzer\n",
    "from analysis.utils import drop_weird_rows\n",
    "from catboost import CatBoostClassifier, Pool,CatBoost, CatBoostRegressor\n",
    "from analysis.work_counter_analytics import  WordCounterAnalytics"
   ]
  },
  {
   "cell_type": "code",
   "execution_count": 2,
   "metadata": {},
   "outputs": [],
   "source": [
    "questions = pd.read_csv(\"vkcup/data.csv\", sep=\";\", index_col=\"ID\")\n",
    "test = pd.read_csv(\"vkcup/test.csv\", sep=\";\", index_col=\"ID\")\n",
    "test['Answer'] = 0\n",
    "train = pd.read_csv(\"vkcup/train.csv\", sep=\";\", index_col=\"ID\")\n",
    "data = questions.join(train)\n",
    "drop_weird_rows(data)\n",
    "data=data[data.index<30000]"
   ]
  },
  {
   "cell_type": "code",
   "execution_count": 3,
   "metadata": {},
   "outputs": [
    {
     "name": "stderr",
     "output_type": "stream",
     "text": [
      "/home/ivan/projects/vkcup/analysis/work_counter_analytics.py:37: RuntimeWarning: divide by zero encountered in double_scalars\n",
      "  return np.mean(x2) / np.mean(x1)\n"
     ]
    }
   ],
   "source": [
    "main_analyzer = MainAnalyzer()\n",
    "main_analyzer(data)\n"
   ]
  },
  {
   "cell_type": "code",
   "execution_count": 4,
   "metadata": {},
   "outputs": [],
   "source": [
    "train=data[data.index<=30000]\n",
    "val=data[(data.index>30000)] \n",
    "\n",
    "# add_train = val[val.sure_is_bad==1]\n",
    "# add_train.Answer = 0\n",
    "# train = pd.concat([train,add_train])\n"
   ]
  },
  {
   "cell_type": "code",
   "execution_count": 5,
   "metadata": {},
   "outputs": [],
   "source": [
    "Y = train.Answer\n",
    "del train['Answer']\n",
    "X = train\n",
    "\n",
    "Y_val = val.Answer\n",
    "del val['Answer']\n",
    "X_val = val"
   ]
  },
  {
   "cell_type": "code",
   "execution_count": 9,
   "metadata": {
    "scrolled": true
   },
   "outputs": [
    {
     "name": "stdout",
     "output_type": "stream",
     "text": [
      "0:\tlearn: 0.6910065\ttotal: 52.7ms\tremaining: 3m 30s\n",
      "1000:\tlearn: 0.8847709\ttotal: 41.9s\tremaining: 2m 5s\n",
      "2000:\tlearn: 0.9016587\ttotal: 1m 23s\tremaining: 1m 23s\n",
      "3000:\tlearn: 0.9112232\ttotal: 2m 3s\tremaining: 41.1s\n",
      "3999:\tlearn: 0.9191740\ttotal: 2m 43s\tremaining: 0us\n"
     ]
    },
    {
     "data": {
      "text/plain": [
       "<catboost.core.CatBoostClassifier at 0x7f7063783240>"
      ]
     },
     "execution_count": 9,
     "metadata": {},
     "output_type": "execute_result"
    }
   ],
   "source": [
    "cat_features=['Question','most_popular_word', 'first_word', 'second_word', 'last_word', 'second_most_popular_word', 'word_after_quote_let']\n",
    "\n",
    "model = CatBoostClassifier(iterations=4000, \n",
    "#                            scale_pos_weight=1/Y.mean(),\n",
    "                           learning_rate=0.02,\n",
    "                           task_type=\"GPU\",\n",
    "                           eval_metric='AUC',\n",
    "                           cat_features=cat_features,\n",
    "                           metric_period=1000,\n",
    "                          )\n",
    "\n",
    "\n",
    "model.fit(X,\n",
    "          Y,\n",
    "#           eval_set=(X_val, Y_val),\n",
    "          verbose=True)\n"
   ]
  },
  {
   "cell_type": "code",
   "execution_count": 11,
   "metadata": {},
   "outputs": [],
   "source": [
    "importance = model.get_feature_importance(prettified=True)"
   ]
  },
  {
   "cell_type": "code",
   "execution_count": 12,
   "metadata": {},
   "outputs": [
    {
     "data": {
      "text/html": [
       "<div>\n",
       "<style scoped>\n",
       "    .dataframe tbody tr th:only-of-type {\n",
       "        vertical-align: middle;\n",
       "    }\n",
       "\n",
       "    .dataframe tbody tr th {\n",
       "        vertical-align: top;\n",
       "    }\n",
       "\n",
       "    .dataframe thead th {\n",
       "        text-align: right;\n",
       "    }\n",
       "</style>\n",
       "<table border=\"1\" class=\"dataframe\">\n",
       "  <thead>\n",
       "    <tr style=\"text-align: right;\">\n",
       "      <th></th>\n",
       "      <th>Feature Id</th>\n",
       "      <th>Importances</th>\n",
       "    </tr>\n",
       "  </thead>\n",
       "  <tbody>\n",
       "    <tr>\n",
       "      <th>0</th>\n",
       "      <td>sure_is_bad</td>\n",
       "      <td>36.127808</td>\n",
       "    </tr>\n",
       "    <tr>\n",
       "      <th>1</th>\n",
       "      <td>less_popular_word_count</td>\n",
       "      <td>8.293236</td>\n",
       "    </tr>\n",
       "    <tr>\n",
       "      <th>2</th>\n",
       "      <td>count_question_sign</td>\n",
       "      <td>6.967240</td>\n",
       "    </tr>\n",
       "    <tr>\n",
       "      <th>3</th>\n",
       "      <td>ends_with_question_sign</td>\n",
       "      <td>4.723710</td>\n",
       "    </tr>\n",
       "    <tr>\n",
       "      <th>4</th>\n",
       "      <td>end_with_question_condition</td>\n",
       "      <td>4.687601</td>\n",
       "    </tr>\n",
       "    <tr>\n",
       "      <th>...</th>\n",
       "      <td>...</td>\n",
       "      <td>...</td>\n",
       "    </tr>\n",
       "    <tr>\n",
       "      <th>115</th>\n",
       "      <td>count_quote_type1_right_space</td>\n",
       "      <td>0.000432</td>\n",
       "    </tr>\n",
       "    <tr>\n",
       "      <th>116</th>\n",
       "      <td>has_brackets_type4</td>\n",
       "      <td>0.000159</td>\n",
       "    </tr>\n",
       "    <tr>\n",
       "      <th>117</th>\n",
       "      <td>has_quote_type4_noname_sign</td>\n",
       "      <td>0.000136</td>\n",
       "    </tr>\n",
       "    <tr>\n",
       "      <th>118</th>\n",
       "      <td>count_start_quote_type5</td>\n",
       "      <td>0.000012</td>\n",
       "    </tr>\n",
       "    <tr>\n",
       "      <th>119</th>\n",
       "      <td>is_balanced_quote_type3</td>\n",
       "      <td>0.000000</td>\n",
       "    </tr>\n",
       "  </tbody>\n",
       "</table>\n",
       "<p>120 rows × 2 columns</p>\n",
       "</div>"
      ],
      "text/plain": [
       "                        Feature Id  Importances\n",
       "0                      sure_is_bad    36.127808\n",
       "1          less_popular_word_count     8.293236\n",
       "2              count_question_sign     6.967240\n",
       "3          ends_with_question_sign     4.723710\n",
       "4      end_with_question_condition     4.687601\n",
       "..                             ...          ...\n",
       "115  count_quote_type1_right_space     0.000432\n",
       "116             has_brackets_type4     0.000159\n",
       "117    has_quote_type4_noname_sign     0.000136\n",
       "118        count_start_quote_type5     0.000012\n",
       "119        is_balanced_quote_type3     0.000000\n",
       "\n",
       "[120 rows x 2 columns]"
      ]
     },
     "execution_count": 12,
     "metadata": {},
     "output_type": "execute_result"
    }
   ],
   "source": [
    "importance"
   ]
  },
  {
   "cell_type": "code",
   "execution_count": 13,
   "metadata": {},
   "outputs": [],
   "source": [
    "val['predict'] = model.predict_proba(val)[:,1]"
   ]
  },
  {
   "cell_type": "code",
   "execution_count": 14,
   "metadata": {},
   "outputs": [],
   "source": [
    "val[['predict']].to_csv('predicts5.csv',header=False)"
   ]
  },
  {
   "cell_type": "code",
   "execution_count": null,
   "metadata": {},
   "outputs": [],
   "source": []
  }
 ],
 "metadata": {
  "kernelspec": {
   "display_name": "Python 3",
   "language": "python",
   "name": "python3"
  },
  "language_info": {
   "codemirror_mode": {
    "name": "ipython",
    "version": 3
   },
   "file_extension": ".py",
   "mimetype": "text/x-python",
   "name": "python",
   "nbconvert_exporter": "python",
   "pygments_lexer": "ipython3",
   "version": "3.6.8"
  }
 },
 "nbformat": 4,
 "nbformat_minor": 2
}
